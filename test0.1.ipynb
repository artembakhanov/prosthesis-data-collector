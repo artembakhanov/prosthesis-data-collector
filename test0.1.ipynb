{
 "cells": [
  {
   "cell_type": "code",
   "execution_count": 81,
   "id": "tribal-proxy",
   "metadata": {},
   "outputs": [],
   "source": [
    "from keras.models import Sequential\n",
    "from keras.layers import Dense\n",
    "from keras.layers import Flatten\n",
    "from keras.layers import Dropout\n",
    "from keras.layers.convolutional import Conv1D\n",
    "from keras.layers.convolutional import MaxPooling1D\n",
    "import numpy as np\n",
    "from sklearn.model_selection import train_test_split\n",
    "import matplotlib.pyplot as plt"
   ]
  },
  {
   "cell_type": "markdown",
   "id": "acting-frost",
   "metadata": {},
   "source": [
    "## Load raw dataset"
   ]
  },
  {
   "cell_type": "code",
   "execution_count": 7,
   "id": "accessible-guidance",
   "metadata": {},
   "outputs": [],
   "source": [
    "# the most interesting part happens here because it is f*cking deep learning where data preparation is the most important part"
   ]
  },
  {
   "cell_type": "code",
   "execution_count": 101,
   "id": "oriented-chicago",
   "metadata": {},
   "outputs": [],
   "source": [
    "FOLDER_RAW = \"dataset_raw\"\n",
    "FOLDER_RAW_TEST = \"dataset_raw/test\"\n",
    "FOLDER_TEST = \"dataset/test\"\n",
    "FOLDER = \"dataset\""
   ]
  },
  {
   "cell_type": "code",
   "execution_count": 71,
   "id": "protected-spectacular",
   "metadata": {},
   "outputs": [],
   "source": [
    "CLASSES = ['still', 'fist', 'grasp', 'two', 'fuck']\n",
    "\n",
    "x = np.zeros(shape=(1, 128, 8))\n",
    "y = np.zeros(shape=(1,))\n",
    "for i, klass in enumerate(CLASSES):\n",
    "    with open(f\"{FOLDER_RAW}/{klass}.txt\") as f:\n",
    "        rows = f.read().split(\"\\n\")\n",
    "        rows = [list(map(int, row.split()))[1:9] for row in rows]\n",
    "        for _ in range(250):\n",
    "            start = np.random.randint(0, len(rows) - 129)\n",
    "            class_sample = np.array([rows[start:start + 128]])\n",
    "            x = np.append(x, class_sample, axis=0)\n",
    "            y = np.append(y, np.array([i]), axis=0)\n",
    "\n",
    "x = x[1:, :, :]\n",
    "y = y[1:]"
   ]
  },
  {
   "cell_type": "code",
   "execution_count": 72,
   "id": "liquid-clone",
   "metadata": {},
   "outputs": [],
   "source": [
    "np.save(f\"{FOLDER}/x.npy\", x)\n",
    "np.save(f\"{FOLDER}/y.npy\", y)"
   ]
  },
  {
   "cell_type": "markdown",
   "id": "logical-green",
   "metadata": {},
   "source": [
    "## Load cleaned dataset"
   ]
  },
  {
   "cell_type": "code",
   "execution_count": 95,
   "id": "found-margin",
   "metadata": {},
   "outputs": [],
   "source": [
    "x = np.load(f\"{FOLDER}/x.npy\") / 4096\n",
    "y = np.load(f\"{FOLDER}/y.npy\")\n",
    "\n",
    "x_train, x_test, y_train, y_test = train_test_split(x, y, test_size=0.15)"
   ]
  },
  {
   "cell_type": "code",
   "execution_count": null,
   "id": "advanced-variation",
   "metadata": {},
   "outputs": [],
   "source": []
  },
  {
   "cell_type": "code",
   "execution_count": 96,
   "id": "atmospheric-label",
   "metadata": {},
   "outputs": [
    {
     "data": {
      "text/plain": [
       "(1062, 128, 8)"
      ]
     },
     "execution_count": 96,
     "metadata": {},
     "output_type": "execute_result"
    }
   ],
   "source": [
    "x_train.shape"
   ]
  },
  {
   "cell_type": "markdown",
   "id": "generic-bolivia",
   "metadata": {},
   "source": [
    "## Creating the model"
   ]
  },
  {
   "cell_type": "code",
   "execution_count": 97,
   "id": "outdoor-agency",
   "metadata": {},
   "outputs": [],
   "source": [
    "model = Sequential()\n",
    "model.add(Conv1D(filters=64, kernel_size=3, activation='relu', input_shape=(128, 8))) # todo: input shape\n",
    "model.add(Conv1D(filters=64, kernel_size=3, activation='relu'))\n",
    "model.add(Dropout(0.5))\n",
    "model.add(MaxPooling1D(pool_size=2))\n",
    "model.add(Flatten())\n",
    "model.add(Dense(100, activation='relu'))\n",
    "model.add(Dense(5, activation='softmax')) # todo: number of classes\n",
    "model.compile(loss='sparse_categorical_crossentropy', optimizer='adam', metrics=['accuracy'])"
   ]
  },
  {
   "cell_type": "code",
   "execution_count": 99,
   "id": "twelve-yield",
   "metadata": {},
   "outputs": [
    {
     "name": "stdout",
     "output_type": "stream",
     "text": [
      "Epoch 1/100\n",
      "17/17 [==============================] - 0s 19ms/step - loss: 0.9113 - accuracy: 0.6431\n",
      "Epoch 2/100\n",
      "17/17 [==============================] - 0s 16ms/step - loss: 0.9076 - accuracy: 0.6808\n",
      "Epoch 3/100\n",
      "17/17 [==============================] - 0s 18ms/step - loss: 0.8121 - accuracy: 0.7147\n",
      "Epoch 4/100\n",
      "17/17 [==============================] - 0s 20ms/step - loss: 0.7822 - accuracy: 0.7119\n",
      "Epoch 5/100\n",
      "17/17 [==============================] - 0s 19ms/step - loss: 0.7433 - accuracy: 0.7269\n",
      "Epoch 6/100\n",
      "17/17 [==============================] - 0s 18ms/step - loss: 0.7063 - accuracy: 0.7608\n",
      "Epoch 7/100\n",
      "17/17 [==============================] - 0s 19ms/step - loss: 0.6801 - accuracy: 0.7684\n",
      "Epoch 8/100\n",
      "17/17 [==============================] - 0s 18ms/step - loss: 0.6711 - accuracy: 0.7486\n",
      "Epoch 9/100\n",
      "17/17 [==============================] - 0s 18ms/step - loss: 0.6716 - accuracy: 0.7514\n",
      "Epoch 10/100\n",
      "17/17 [==============================] - 0s 19ms/step - loss: 0.6407 - accuracy: 0.7712\n",
      "Epoch 11/100\n",
      "17/17 [==============================] - 0s 18ms/step - loss: 0.6873 - accuracy: 0.7298\n",
      "Epoch 12/100\n",
      "17/17 [==============================] - 0s 18ms/step - loss: 0.6755 - accuracy: 0.7363\n",
      "Epoch 13/100\n",
      "17/17 [==============================] - 0s 19ms/step - loss: 0.5377 - accuracy: 0.8107\n",
      "Epoch 14/100\n",
      "17/17 [==============================] - 0s 19ms/step - loss: 0.5165 - accuracy: 0.8239\n",
      "Epoch 15/100\n",
      "17/17 [==============================] - 0s 18ms/step - loss: 0.4979 - accuracy: 0.8390\n",
      "Epoch 16/100\n",
      "17/17 [==============================] - 0s 19ms/step - loss: 0.4767 - accuracy: 0.8465\n",
      "Epoch 17/100\n",
      "17/17 [==============================] - 0s 19ms/step - loss: 0.5076 - accuracy: 0.8154\n",
      "Epoch 18/100\n",
      "17/17 [==============================] - 0s 18ms/step - loss: 0.4705 - accuracy: 0.8390\n",
      "Epoch 19/100\n",
      "17/17 [==============================] - 0s 19ms/step - loss: 0.4628 - accuracy: 0.8371\n",
      "Epoch 20/100\n",
      "17/17 [==============================] - 0s 21ms/step - loss: 0.4820 - accuracy: 0.8211\n",
      "Epoch 21/100\n",
      "17/17 [==============================] - 0s 19ms/step - loss: 0.5928 - accuracy: 0.7750\n",
      "Epoch 22/100\n",
      "17/17 [==============================] - 0s 18ms/step - loss: 0.5496 - accuracy: 0.7684\n",
      "Epoch 23/100\n",
      "17/17 [==============================] - 0s 20ms/step - loss: 0.4988 - accuracy: 0.8107\n",
      "Epoch 24/100\n",
      "17/17 [==============================] - 0s 19ms/step - loss: 0.4356 - accuracy: 0.8644\n",
      "Epoch 25/100\n",
      "17/17 [==============================] - 0s 18ms/step - loss: 0.4292 - accuracy: 0.8531\n",
      "Epoch 26/100\n",
      "17/17 [==============================] - 0s 19ms/step - loss: 0.4811 - accuracy: 0.8211\n",
      "Epoch 27/100\n",
      "17/17 [==============================] - 0s 19ms/step - loss: 0.4379 - accuracy: 0.8465\n",
      "Epoch 28/100\n",
      "17/17 [==============================] - 0s 19ms/step - loss: 0.3583 - accuracy: 0.8870\n",
      "Epoch 29/100\n",
      "17/17 [==============================] - 0s 19ms/step - loss: 0.3961 - accuracy: 0.8653\n",
      "Epoch 30/100\n",
      "17/17 [==============================] - 0s 19ms/step - loss: 0.3843 - accuracy: 0.8691\n",
      "Epoch 31/100\n",
      "17/17 [==============================] - 0s 19ms/step - loss: 0.3959 - accuracy: 0.8616\n",
      "Epoch 32/100\n",
      "17/17 [==============================] - 0s 21ms/step - loss: 0.3970 - accuracy: 0.8606\n",
      "Epoch 33/100\n",
      "17/17 [==============================] - 0s 20ms/step - loss: 0.4475 - accuracy: 0.8409\n",
      "Epoch 34/100\n",
      "17/17 [==============================] - 0s 18ms/step - loss: 0.4786 - accuracy: 0.8220\n",
      "Epoch 35/100\n",
      "17/17 [==============================] - 0s 19ms/step - loss: 0.3778 - accuracy: 0.8616\n",
      "Epoch 36/100\n",
      "17/17 [==============================] - 0s 18ms/step - loss: 0.4594 - accuracy: 0.8249\n",
      "Epoch 37/100\n",
      "17/17 [==============================] - 0s 18ms/step - loss: 0.3915 - accuracy: 0.8606\n",
      "Epoch 38/100\n",
      "17/17 [==============================] - 0s 19ms/step - loss: 0.3885 - accuracy: 0.8559\n",
      "Epoch 39/100\n",
      "17/17 [==============================] - 0s 19ms/step - loss: 0.4315 - accuracy: 0.8390\n",
      "Epoch 40/100\n",
      "17/17 [==============================] - 0s 19ms/step - loss: 0.3211 - accuracy: 0.9058\n",
      "Epoch 41/100\n",
      "17/17 [==============================] - 0s 19ms/step - loss: 0.3725 - accuracy: 0.8522\n",
      "Epoch 42/100\n",
      "17/17 [==============================] - 0s 18ms/step - loss: 0.4011 - accuracy: 0.8484\n",
      "Epoch 43/100\n",
      "17/17 [==============================] - 0s 19ms/step - loss: 0.3397 - accuracy: 0.8757\n",
      "Epoch 44/100\n",
      "17/17 [==============================] - 0s 20ms/step - loss: 0.3200 - accuracy: 0.8804\n",
      "Epoch 45/100\n",
      "17/17 [==============================] - 0s 20ms/step - loss: 0.3322 - accuracy: 0.8842\n",
      "Epoch 46/100\n",
      "17/17 [==============================] - 0s 18ms/step - loss: 0.2932 - accuracy: 0.8955\n",
      "Epoch 47/100\n",
      "17/17 [==============================] - 0s 18ms/step - loss: 0.2985 - accuracy: 0.9068\n",
      "Epoch 48/100\n",
      "17/17 [==============================] - 0s 19ms/step - loss: 0.3313 - accuracy: 0.8879\n",
      "Epoch 49/100\n",
      "17/17 [==============================] - 0s 18ms/step - loss: 0.2849 - accuracy: 0.9134\n",
      "Epoch 50/100\n",
      "17/17 [==============================] - 0s 18ms/step - loss: 0.3667 - accuracy: 0.8559\n",
      "Epoch 51/100\n",
      "17/17 [==============================] - 0s 17ms/step - loss: 0.3371 - accuracy: 0.8804\n",
      "Epoch 52/100\n",
      "17/17 [==============================] - 0s 19ms/step - loss: 0.3618 - accuracy: 0.8738\n",
      "Epoch 53/100\n",
      "17/17 [==============================] - 0s 17ms/step - loss: 0.3565 - accuracy: 0.8710\n",
      "Epoch 54/100\n",
      "17/17 [==============================] - 0s 20ms/step - loss: 0.2902 - accuracy: 0.9077\n",
      "Epoch 55/100\n",
      "17/17 [==============================] - 0s 21ms/step - loss: 0.2922 - accuracy: 0.8992\n",
      "Epoch 56/100\n",
      "17/17 [==============================] - 0s 21ms/step - loss: 0.2917 - accuracy: 0.8945\n",
      "Epoch 57/100\n",
      "17/17 [==============================] - 0s 20ms/step - loss: 0.3143 - accuracy: 0.8898\n",
      "Epoch 58/100\n",
      "17/17 [==============================] - 0s 20ms/step - loss: 0.2536 - accuracy: 0.9096\n",
      "Epoch 59/100\n",
      "17/17 [==============================] - 0s 19ms/step - loss: 0.2685 - accuracy: 0.9030\n",
      "Epoch 60/100\n",
      "17/17 [==============================] - 0s 20ms/step - loss: 0.2769 - accuracy: 0.9002\n",
      "Epoch 61/100\n",
      "17/17 [==============================] - 0s 19ms/step - loss: 0.2762 - accuracy: 0.9030\n",
      "Epoch 62/100\n",
      "17/17 [==============================] - 0s 19ms/step - loss: 0.2703 - accuracy: 0.9021\n",
      "Epoch 63/100\n",
      "17/17 [==============================] - 0s 20ms/step - loss: 0.2491 - accuracy: 0.9218\n",
      "Epoch 64/100\n",
      "17/17 [==============================] - 0s 19ms/step - loss: 0.2534 - accuracy: 0.9181\n",
      "Epoch 65/100\n",
      "17/17 [==============================] - 0s 19ms/step - loss: 0.2443 - accuracy: 0.9115\n",
      "Epoch 66/100\n",
      "17/17 [==============================] - 0s 18ms/step - loss: 0.3318 - accuracy: 0.8635\n",
      "Epoch 67/100\n",
      "17/17 [==============================] - 0s 19ms/step - loss: 0.2674 - accuracy: 0.9105\n",
      "Epoch 68/100\n",
      "17/17 [==============================] - 0s 18ms/step - loss: 0.2174 - accuracy: 0.9284\n",
      "Epoch 69/100\n",
      "17/17 [==============================] - 0s 20ms/step - loss: 0.2214 - accuracy: 0.9256\n",
      "Epoch 70/100\n",
      "17/17 [==============================] - 0s 20ms/step - loss: 0.2711 - accuracy: 0.8936\n",
      "Epoch 71/100\n",
      "17/17 [==============================] - 0s 19ms/step - loss: 0.2758 - accuracy: 0.8974\n",
      "Epoch 72/100\n",
      "17/17 [==============================] - 0s 18ms/step - loss: 0.3172 - accuracy: 0.8729\n",
      "Epoch 73/100\n",
      "17/17 [==============================] - 0s 19ms/step - loss: 0.2879 - accuracy: 0.8936\n",
      "Epoch 74/100\n",
      "17/17 [==============================] - 0s 20ms/step - loss: 0.2490 - accuracy: 0.9087\n",
      "Epoch 75/100\n",
      "17/17 [==============================] - 0s 19ms/step - loss: 0.2727 - accuracy: 0.8983\n",
      "Epoch 76/100\n",
      "17/17 [==============================] - 0s 19ms/step - loss: 0.2110 - accuracy: 0.9303\n",
      "Epoch 77/100\n",
      "17/17 [==============================] - 0s 20ms/step - loss: 0.2425 - accuracy: 0.9134\n",
      "Epoch 78/100\n",
      "17/17 [==============================] - 0s 20ms/step - loss: 0.2378 - accuracy: 0.9162\n",
      "Epoch 79/100\n",
      "17/17 [==============================] - 0s 19ms/step - loss: 0.2353 - accuracy: 0.9218\n",
      "Epoch 80/100\n",
      "17/17 [==============================] - 0s 20ms/step - loss: 0.2754 - accuracy: 0.8983\n",
      "Epoch 81/100\n",
      "17/17 [==============================] - 0s 19ms/step - loss: 0.2594 - accuracy: 0.9124\n",
      "Epoch 82/100\n",
      "17/17 [==============================] - 0s 18ms/step - loss: 0.2045 - accuracy: 0.9322\n",
      "Epoch 83/100\n",
      "17/17 [==============================] - 0s 19ms/step - loss: 0.2520 - accuracy: 0.9181\n",
      "Epoch 84/100\n",
      "17/17 [==============================] - 0s 19ms/step - loss: 0.2459 - accuracy: 0.9124\n",
      "Epoch 85/100\n",
      "17/17 [==============================] - 0s 19ms/step - loss: 0.2622 - accuracy: 0.9096\n",
      "Epoch 86/100\n",
      "17/17 [==============================] - 0s 19ms/step - loss: 0.2527 - accuracy: 0.9077\n",
      "Epoch 87/100\n",
      "17/17 [==============================] - 0s 20ms/step - loss: 0.2376 - accuracy: 0.9153\n",
      "Epoch 88/100\n",
      "17/17 [==============================] - 0s 18ms/step - loss: 0.1780 - accuracy: 0.9416\n",
      "Epoch 89/100\n",
      "17/17 [==============================] - 0s 19ms/step - loss: 0.1708 - accuracy: 0.9463\n",
      "Epoch 90/100\n",
      "17/17 [==============================] - 0s 19ms/step - loss: 0.1826 - accuracy: 0.9388\n",
      "Epoch 91/100\n",
      "17/17 [==============================] - 0s 19ms/step - loss: 0.1577 - accuracy: 0.9492\n",
      "Epoch 92/100\n",
      "17/17 [==============================] - 0s 19ms/step - loss: 0.1781 - accuracy: 0.9435\n",
      "Epoch 93/100\n",
      "17/17 [==============================] - 0s 19ms/step - loss: 0.1934 - accuracy: 0.9407\n",
      "Epoch 94/100\n",
      "17/17 [==============================] - 0s 20ms/step - loss: 0.2543 - accuracy: 0.9134\n",
      "Epoch 95/100\n",
      "17/17 [==============================] - 0s 20ms/step - loss: 0.2750 - accuracy: 0.9002\n",
      "Epoch 96/100\n",
      "17/17 [==============================] - 0s 19ms/step - loss: 0.1891 - accuracy: 0.9407\n",
      "Epoch 97/100\n",
      "17/17 [==============================] - 0s 20ms/step - loss: 0.1922 - accuracy: 0.9379\n",
      "Epoch 98/100\n",
      "17/17 [==============================] - 0s 20ms/step - loss: 0.2320 - accuracy: 0.9143\n",
      "Epoch 99/100\n",
      "17/17 [==============================] - 0s 21ms/step - loss: 0.2182 - accuracy: 0.9181\n",
      "Epoch 100/100\n",
      "17/17 [==============================] - 0s 21ms/step - loss: 0.1476 - accuracy: 0.9520\n"
     ]
    },
    {
     "data": {
      "text/plain": [
       "<tensorflow.python.keras.callbacks.History at 0x1720f2588>"
      ]
     },
     "execution_count": 99,
     "metadata": {},
     "output_type": "execute_result"
    }
   ],
   "source": [
    "model.fit(x_train, y_train, epochs=100, batch_size=64, verbose=1)"
   ]
  },
  {
   "cell_type": "code",
   "execution_count": 100,
   "id": "abroad-tanzania",
   "metadata": {},
   "outputs": [
    {
     "name": "stdout",
     "output_type": "stream",
     "text": [
      "6/6 [==============================] - 0s 3ms/step - loss: 0.3471 - accuracy: 0.8936\n"
     ]
    },
    {
     "data": {
      "text/plain": [
       "[0.3470786213874817, 0.8936170339584351]"
      ]
     },
     "execution_count": 100,
     "metadata": {},
     "output_type": "execute_result"
    }
   ],
   "source": [
    "model.evaluate(x_test, y_test)"
   ]
  },
  {
   "cell_type": "code",
   "execution_count": 94,
   "id": "fixed-things",
   "metadata": {},
   "outputs": [
    {
     "name": "stdout",
     "output_type": "stream",
     "text": [
      "0.000732421875\n"
     ]
    },
    {
     "data": {
      "image/png": "[encoded data removed]",
      "text/plain": [
       "<Figure size 432x288 with 1 Axes>"
      ]
     },
     "metadata": {
      "needs_background": "light"
     },
     "output_type": "display_data"
    }
   ],
   "source": [
    "n = 4\n",
    "plt.plot(np.arange(128), x_train[n, :, :])\n",
    "print(y_train[n])"
   ]
  },
  {
   "cell_type": "code",
   "execution_count": 110,
   "id": "alleged-generation",
   "metadata": {},
   "outputs": [],
   "source": [
    "CLASSES = ['still', 'fist', 'grasp', 'two', 'fuck']\n",
    "\n",
    "x = np.zeros(shape=(1, 128, 8))\n",
    "y = np.zeros(shape=(1,))\n",
    "for i, klass in enumerate(CLASSES):\n",
    "    if klass == 'grasp':\n",
    "        continue\n",
    "    with open(f\"{FOLDER_RAW_TEST}/{klass}.txt\") as f:\n",
    "        rows = f.read().split(\"\\n\")\n",
    "        rows = [list(map(int, row.split()))[1:9] for row in rows]\n",
    "        for _ in range(250):\n",
    "            start = np.random.randint(0, len(rows) - 129)\n",
    "            class_sample = np.array([rows[start:start + 128]])\n",
    "            x = np.append(x, class_sample, axis=0)\n",
    "            y = np.append(y, np.array([i]), axis=0)\n",
    "\n",
    "x = x[1:, :, :]\n",
    "y = y[1:]"
   ]
  },
  {
   "cell_type": "code",
   "execution_count": 104,
   "id": "adjustable-strengthening",
   "metadata": {},
   "outputs": [],
   "source": [
    "np.save(f\"{FOLDER_TEST}/x.npy\", x)\n",
    "np.save(f\"{FOLDER_TEST}/y.npy\", y)"
   ]
  },
  {
   "cell_type": "code",
   "execution_count": 112,
   "id": "quick-chess",
   "metadata": {},
   "outputs": [
    {
     "name": "stdout",
     "output_type": "stream",
     "text": [
      "32/32 [==============================] - 0s 3ms/step - loss: 26.5438 - accuracy: 0.2140\n"
     ]
    },
    {
     "data": {
      "text/plain": [
       "[26.543813705444336, 0.21400000154972076]"
      ]
     },
     "execution_count": 112,
     "metadata": {},
     "output_type": "execute_result"
    }
   ],
   "source": [
    "model.evaluate(x / 4096, y)"
   ]
  },
  {
   "cell_type": "code",
   "execution_count": null,
   "id": "tracked-collaboration",
   "metadata": {},
   "outputs": [],
   "source": []
  }
 ],
 "metadata": {
  "kernelspec": {
   "display_name": "Python 3",
   "language": "python",
   "name": "python3"
  },
  "language_info": {
   "codemirror_mode": {
    "name": "ipython",
    "version": 3
   },
   "file_extension": ".py",
   "mimetype": "text/x-python",
   "name": "python",
   "nbconvert_exporter": "python",
   "pygments_lexer": "ipython3",
   "version": "3.6.9"
  }
 },
 "nbformat": 4,
 "nbformat_minor": 5
}
